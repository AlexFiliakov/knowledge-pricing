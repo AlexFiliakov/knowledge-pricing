{
 "cells": [
  {
   "cell_type": "markdown",
   "id": "7e398b76",
   "metadata": {},
   "source": [
    "# Quantum Catastrophe Model"
   ]
  },
  {
   "cell_type": "markdown",
   "id": "4d0fd6b7",
   "metadata": {},
   "source": [
    "## Setup"
   ]
  },
  {
   "cell_type": "code",
   "execution_count": 2,
   "id": "07032e75",
   "metadata": {},
   "outputs": [],
   "source": [
    "import qiskit"
   ]
  },
  {
   "cell_type": "code",
   "execution_count": 3,
   "id": "92ea15c8",
   "metadata": {},
   "outputs": [
    {
     "data": {
      "text/plain": [
       "'1.4.2'"
      ]
     },
     "execution_count": 3,
     "metadata": {},
     "output_type": "execute_result"
    }
   ],
   "source": [
    "qiskit.__version__"
   ]
  },
  {
   "cell_type": "code",
   "execution_count": 4,
   "id": "746f2a55",
   "metadata": {},
   "outputs": [],
   "source": [
    "import os\n",
    "import sys\n",
    "import numpy as np\n",
    "import pandas as pd\n",
    "import matplotlib.pyplot as plt"
   ]
  },
  {
   "cell_type": "code",
   "execution_count": 5,
   "id": "a44c3563",
   "metadata": {},
   "outputs": [
    {
     "name": "stderr",
     "output_type": "stream",
     "text": [
      "C:\\Users\\alexf\\AppData\\Local\\Temp\\ipykernel_42748\\2215127941.py:4: DeprecationWarning: The \"ibm_quantum\" channel option is deprecated and will be sunset on 1 July. After this date, ibm_cloud will be the only valid channel. For information on migrating to the new IBM Quantum Platform on the \"ibm_cloud\" channel, review the migration guide https://quantum.cloud.ibm.com/docs/migration-guides/classic-iqp-to-cloud-iqp .\n",
      "  service = QiskitRuntimeService(filename='.qiskit/qiskit-ibm.json')\n"
     ]
    },
    {
     "data": {
      "text/plain": [
       "127"
      ]
     },
     "execution_count": 5,
     "metadata": {},
     "output_type": "execute_result"
    }
   ],
   "source": [
    "from qiskit_ibm_runtime import QiskitRuntimeService\n",
    "\n",
    "\n",
    "service = QiskitRuntimeService(filename='.qiskit/qiskit-ibm.json')\n",
    "backend = service.backend(name=\"ibm_brisbane\")\n",
    "backend.num_qubits"
   ]
  },
  {
   "cell_type": "markdown",
   "id": "1ab4fbf8",
   "metadata": {},
   "source": [
    "## Map the Knowledge Dependency Between Domains"
   ]
  },
  {
   "cell_type": "markdown",
   "id": "28dfb9ef",
   "metadata": {},
   "source": [
    "### Correlation Matrices Related by Power Laws"
   ]
  },
  {
   "cell_type": "markdown",
   "id": "1c3c66d9",
   "metadata": {},
   "source": [
    "## Clayton Copulas to Estimate Increased Tail Relationships\n",
    "- Explore Quantum Copula"
   ]
  },
  {
   "cell_type": "markdown",
   "id": "15d55813",
   "metadata": {},
   "source": [
    "### Match One-in-N-Scenario Posited Previously"
   ]
  },
  {
   "cell_type": "markdown",
   "id": "fe0dd510",
   "metadata": {},
   "source": [
    "## Bootstrap Current Experience to Estimate Exposure to Parameter Uncertainty"
   ]
  },
  {
   "cell_type": "markdown",
   "id": "2bb9e9cf",
   "metadata": {},
   "source": [
    "### Bootstrap the First 95% of the Distribution\n",
    "- Quantum Monte Carlo"
   ]
  },
  {
   "cell_type": "markdown",
   "id": "05234681",
   "metadata": {},
   "source": [
    "## Extreme Value Theory for the Remaining 5% Tail"
   ]
  },
  {
   "cell_type": "markdown",
   "id": "66dda339",
   "metadata": {},
   "source": [
    "### Fit Generalized Pareto Distribution to the Most Significant Losses"
   ]
  },
  {
   "cell_type": "markdown",
   "id": "d205de4a",
   "metadata": {},
   "source": [
    "### Asymptotically Estimate 1-in-1000 Year Loss Variations"
   ]
  },
  {
   "cell_type": "markdown",
   "id": "d402c8b7",
   "metadata": {},
   "source": [
    "## Price the Expected Loss in Layers\n",
    "- $25M Retained Layer\n",
    "- $50M XS $25M First Excess Layer\n",
    "- $50M XS $75M Second Excess Layer\n",
    "- $75M XS $125M Third Excess Layer"
   ]
  },
  {
   "cell_type": "markdown",
   "id": "4d02183a",
   "metadata": {},
   "source": [
    "### Risk Margin\n",
    "- Quantum Amplitude Estimation for VaR"
   ]
  },
  {
   "cell_type": "markdown",
   "id": "909189f0",
   "metadata": {},
   "source": [
    "## Provision for Adverse Deviation"
   ]
  },
  {
   "cell_type": "markdown",
   "id": "7a94ae58",
   "metadata": {},
   "source": [
    "### PAD for Correlation with Reinsurers' Other Market Instruments\n",
    "- Target a 20% buffer for unforeseen events."
   ]
  },
  {
   "cell_type": "markdown",
   "id": "7cff4112",
   "metadata": {},
   "source": [
    "## Reasonability Check"
   ]
  },
  {
   "cell_type": "markdown",
   "id": "9caf82da",
   "metadata": {},
   "source": [
    "### Rate-on-Line"
   ]
  },
  {
   "cell_type": "code",
   "execution_count": null,
   "id": "0f26bd93",
   "metadata": {},
   "outputs": [],
   "source": []
  }
 ],
 "metadata": {
  "kernelspec": {
   "display_name": "myenv",
   "language": "python",
   "name": "python3"
  },
  "language_info": {
   "codemirror_mode": {
    "name": "ipython",
    "version": 3
   },
   "file_extension": ".py",
   "mimetype": "text/x-python",
   "name": "python",
   "nbconvert_exporter": "python",
   "pygments_lexer": "ipython3",
   "version": "3.12.7"
  }
 },
 "nbformat": 4,
 "nbformat_minor": 5
}
