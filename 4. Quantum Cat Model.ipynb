{
 "cells": [
  {
   "cell_type": "markdown",
   "id": "7e398b76",
   "metadata": {},
   "source": [
    "# Quantum Catastrophe Model"
   ]
  },
  {
   "cell_type": "markdown",
   "id": "4d0fd6b7",
   "metadata": {},
   "source": [
    "## Setup"
   ]
  },
  {
   "cell_type": "code",
   "execution_count": 1,
   "id": "43aa3793",
   "metadata": {},
   "outputs": [],
   "source": [
    "# %pip install qiskit --upgrade\n",
    "# %pip install qiskit-ibm-runtime --upgrade\n",
    "# %pip install qiskit[visualization] --upgrade\n",
    "# %pip install qiskit[all] --upgrade\n",
    "# %pip install pylatexenc --upgrade"
   ]
  },
  {
   "cell_type": "code",
   "execution_count": 1,
   "id": "07032e75",
   "metadata": {},
   "outputs": [],
   "source": [
    "import qiskit"
   ]
  },
  {
   "cell_type": "code",
   "execution_count": 2,
   "id": "92ea15c8",
   "metadata": {},
   "outputs": [
    {
     "data": {
      "text/plain": [
       "'2.0.0'"
      ]
     },
     "execution_count": 2,
     "metadata": {},
     "output_type": "execute_result"
    }
   ],
   "source": [
    "qiskit.__version__"
   ]
  },
  {
   "cell_type": "code",
   "execution_count": null,
   "id": "746f2a55",
   "metadata": {},
   "outputs": [],
   "source": [
    "import os\n",
    "import sys\n",
    "import numpy as np\n",
    "import pandas as pd\n",
    "import matplotlib.pyplot as plt"
   ]
  },
  {
   "cell_type": "code",
   "execution_count": 5,
   "id": "6f53efb1",
   "metadata": {},
   "outputs": [
    {
     "ename": "CloudResourceNameResolutionError",
     "evalue": "'Failed to resolve CRN value for the provided service name ibm-qiskit-runtime.'",
     "output_type": "error",
     "traceback": [
      "\u001b[1;31m---------------------------------------------------------------------------\u001b[0m",
      "\u001b[1;31mCloudResourceNameResolutionError\u001b[0m          Traceback (most recent call last)",
      "Cell \u001b[1;32mIn[5], line 4\u001b[0m\n\u001b[0;32m      1\u001b[0m \u001b[38;5;28;01mfrom\u001b[39;00m \u001b[38;5;21;01mqiskit_ibm_runtime\u001b[39;00m \u001b[38;5;28;01mimport\u001b[39;00m QiskitRuntimeService\n\u001b[0;32m      3\u001b[0m qtoken \u001b[38;5;241m=\u001b[39m os\u001b[38;5;241m.\u001b[39menviron[\u001b[38;5;124m'\u001b[39m\u001b[38;5;124mQiskitToken\u001b[39m\u001b[38;5;124m'\u001b[39m]\n\u001b[1;32m----> 4\u001b[0m service \u001b[38;5;241m=\u001b[39m QiskitRuntimeService(channel\u001b[38;5;241m=\u001b[39m\u001b[38;5;124m'\u001b[39m\u001b[38;5;124mibm_cloud\u001b[39m\u001b[38;5;124m'\u001b[39m,\n\u001b[0;32m      5\u001b[0m                                token \u001b[38;5;241m=\u001b[39m qtoken,\n\u001b[0;32m      6\u001b[0m                                instance\u001b[38;5;241m=\u001b[39m\u001b[38;5;124m'\u001b[39m\u001b[38;5;124mibm-qiskit-runtime\u001b[39m\u001b[38;5;124m'\u001b[39m)\n",
      "File \u001b[1;32mc:\\Users\\alexf\\miniconda3\\envs\\myenv\\Lib\\site-packages\\qiskit_ibm_runtime\\qiskit_runtime_service.py:128\u001b[0m, in \u001b[0;36mQiskitRuntimeService.__init__\u001b[1;34m(self, channel, token, url, filename, name, instance, proxies, verify, private_endpoint, url_resolver)\u001b[0m\n\u001b[0;32m     78\u001b[0m \u001b[38;5;250m\u001b[39m\u001b[38;5;124;03m\"\"\"QiskitRuntimeService constructor\u001b[39;00m\n\u001b[0;32m     79\u001b[0m \n\u001b[0;32m     80\u001b[0m \u001b[38;5;124;03mAn account is selected in the following order:\u001b[39;00m\n\u001b[1;32m   (...)\u001b[0m\n\u001b[0;32m    124\u001b[0m \u001b[38;5;124;03m    IBMInputValueError: If an input is invalid.\u001b[39;00m\n\u001b[0;32m    125\u001b[0m \u001b[38;5;124;03m\"\"\"\u001b[39;00m\n\u001b[0;32m    126\u001b[0m \u001b[38;5;28msuper\u001b[39m()\u001b[38;5;241m.\u001b[39m\u001b[38;5;21m__init__\u001b[39m()\n\u001b[1;32m--> 128\u001b[0m \u001b[38;5;28mself\u001b[39m\u001b[38;5;241m.\u001b[39m_account \u001b[38;5;241m=\u001b[39m \u001b[38;5;28mself\u001b[39m\u001b[38;5;241m.\u001b[39m_discover_account(\n\u001b[0;32m    129\u001b[0m     token\u001b[38;5;241m=\u001b[39mtoken,\n\u001b[0;32m    130\u001b[0m     url\u001b[38;5;241m=\u001b[39murl,\n\u001b[0;32m    131\u001b[0m     instance\u001b[38;5;241m=\u001b[39minstance,\n\u001b[0;32m    132\u001b[0m     channel\u001b[38;5;241m=\u001b[39mchannel,\n\u001b[0;32m    133\u001b[0m     filename\u001b[38;5;241m=\u001b[39mfilename,\n\u001b[0;32m    134\u001b[0m     name\u001b[38;5;241m=\u001b[39mname,\n\u001b[0;32m    135\u001b[0m     proxies\u001b[38;5;241m=\u001b[39mProxyConfiguration(\u001b[38;5;241m*\u001b[39m\u001b[38;5;241m*\u001b[39mproxies) \u001b[38;5;28;01mif\u001b[39;00m proxies \u001b[38;5;28;01melse\u001b[39;00m \u001b[38;5;28;01mNone\u001b[39;00m,\n\u001b[0;32m    136\u001b[0m     verify\u001b[38;5;241m=\u001b[39mverify,\n\u001b[0;32m    137\u001b[0m )\n\u001b[0;32m    139\u001b[0m \u001b[38;5;28;01mif\u001b[39;00m private_endpoint \u001b[38;5;129;01mis\u001b[39;00m \u001b[38;5;129;01mnot\u001b[39;00m \u001b[38;5;28;01mNone\u001b[39;00m:\n\u001b[0;32m    140\u001b[0m     \u001b[38;5;28mself\u001b[39m\u001b[38;5;241m.\u001b[39m_account\u001b[38;5;241m.\u001b[39mprivate_endpoint \u001b[38;5;241m=\u001b[39m private_endpoint\n",
      "File \u001b[1;32mc:\\Users\\alexf\\miniconda3\\envs\\myenv\\Lib\\site-packages\\qiskit_ibm_runtime\\qiskit_runtime_service.py:251\u001b[0m, in \u001b[0;36mQiskitRuntimeService._discover_account\u001b[1;34m(self, token, url, instance, channel, filename, name, proxies, verify)\u001b[0m\n\u001b[0;32m    248\u001b[0m     account\u001b[38;5;241m.\u001b[39mverify \u001b[38;5;241m=\u001b[39m verify\n\u001b[0;32m    250\u001b[0m \u001b[38;5;66;03m# resolve CRN if needed\u001b[39;00m\n\u001b[1;32m--> 251\u001b[0m \u001b[38;5;28mself\u001b[39m\u001b[38;5;241m.\u001b[39m_resolve_crn(account)\n\u001b[0;32m    253\u001b[0m \u001b[38;5;66;03m# ensure account is valid, fail early if not\u001b[39;00m\n\u001b[0;32m    254\u001b[0m account\u001b[38;5;241m.\u001b[39mvalidate()\n",
      "File \u001b[1;32mc:\\Users\\alexf\\miniconda3\\envs\\myenv\\Lib\\site-packages\\qiskit_ibm_runtime\\qiskit_runtime_service.py:267\u001b[0m, in \u001b[0;36mQiskitRuntimeService._resolve_crn\u001b[1;34m(self, account)\u001b[0m\n\u001b[0;32m    266\u001b[0m \u001b[38;5;28;01mdef\u001b[39;00m \u001b[38;5;21m_resolve_crn\u001b[39m(\u001b[38;5;28mself\u001b[39m, account: Account) \u001b[38;5;241m-\u001b[39m\u001b[38;5;241m>\u001b[39m \u001b[38;5;28;01mNone\u001b[39;00m:\n\u001b[1;32m--> 267\u001b[0m     account\u001b[38;5;241m.\u001b[39mresolve_crn()\n",
      "File \u001b[1;32mc:\\Users\\alexf\\miniconda3\\envs\\myenv\\Lib\\site-packages\\qiskit_ibm_runtime\\accounts\\account.py:293\u001b[0m, in \u001b[0;36mCloudAccount.resolve_crn\u001b[1;34m(self)\u001b[0m\n\u001b[0;32m    286\u001b[0m crn \u001b[38;5;241m=\u001b[39m resolve_crn(\n\u001b[0;32m    287\u001b[0m     channel\u001b[38;5;241m=\u001b[39m\u001b[38;5;124m\"\u001b[39m\u001b[38;5;124mibm_cloud\u001b[39m\u001b[38;5;124m\"\u001b[39m,\n\u001b[0;32m    288\u001b[0m     url\u001b[38;5;241m=\u001b[39m\u001b[38;5;28mself\u001b[39m\u001b[38;5;241m.\u001b[39murl,\n\u001b[0;32m    289\u001b[0m     token\u001b[38;5;241m=\u001b[39m\u001b[38;5;28mself\u001b[39m\u001b[38;5;241m.\u001b[39mtoken,\n\u001b[0;32m    290\u001b[0m     instance\u001b[38;5;241m=\u001b[39m\u001b[38;5;28mself\u001b[39m\u001b[38;5;241m.\u001b[39minstance,\n\u001b[0;32m    291\u001b[0m )\n\u001b[0;32m    292\u001b[0m \u001b[38;5;28;01mif\u001b[39;00m \u001b[38;5;28mlen\u001b[39m(crn) \u001b[38;5;241m==\u001b[39m \u001b[38;5;241m0\u001b[39m:\n\u001b[1;32m--> 293\u001b[0m     \u001b[38;5;28;01mraise\u001b[39;00m CloudResourceNameResolutionError(\n\u001b[0;32m    294\u001b[0m         \u001b[38;5;124mf\u001b[39m\u001b[38;5;124m\"\u001b[39m\u001b[38;5;124mFailed to resolve CRN value for the provided service name \u001b[39m\u001b[38;5;132;01m{\u001b[39;00m\u001b[38;5;28mself\u001b[39m\u001b[38;5;241m.\u001b[39minstance\u001b[38;5;132;01m}\u001b[39;00m\u001b[38;5;124m.\u001b[39m\u001b[38;5;124m\"\u001b[39m\n\u001b[0;32m    295\u001b[0m     )\n\u001b[0;32m    296\u001b[0m \u001b[38;5;28;01mif\u001b[39;00m \u001b[38;5;28mlen\u001b[39m(crn) \u001b[38;5;241m>\u001b[39m \u001b[38;5;241m1\u001b[39m:\n\u001b[0;32m    297\u001b[0m     \u001b[38;5;66;03m# handle edge-case where multiple service instances with the same name exist\u001b[39;00m\n\u001b[0;32m    298\u001b[0m     logger\u001b[38;5;241m.\u001b[39mwarning(\n\u001b[0;32m    299\u001b[0m         \u001b[38;5;124m\"\u001b[39m\u001b[38;5;124mMultiple CRN values found for service name \u001b[39m\u001b[38;5;132;01m%s\u001b[39;00m\u001b[38;5;124m: \u001b[39m\u001b[38;5;132;01m%s\u001b[39;00m\u001b[38;5;124m. Using \u001b[39m\u001b[38;5;132;01m%s\u001b[39;00m\u001b[38;5;124m.\u001b[39m\u001b[38;5;124m\"\u001b[39m,\n\u001b[0;32m    300\u001b[0m         \u001b[38;5;28mself\u001b[39m\u001b[38;5;241m.\u001b[39minstance,\n\u001b[0;32m    301\u001b[0m         crn,\n\u001b[0;32m    302\u001b[0m         crn[\u001b[38;5;241m0\u001b[39m],\n\u001b[0;32m    303\u001b[0m     )\n",
      "\u001b[1;31mCloudResourceNameResolutionError\u001b[0m: 'Failed to resolve CRN value for the provided service name ibm-qiskit-runtime.'"
     ]
    }
   ],
   "source": [
    "from qiskit_ibm_runtime import QiskitRuntimeService\n",
    "\n",
    "qtoken = os.environ['QiskitToken']\n",
    "service = QiskitRuntimeService(channel='ibm_cloud',\n",
    "                               token = qtoken,\n",
    "                               instance='ibm-qiskit-runtime')"
   ]
  },
  {
   "cell_type": "code",
   "execution_count": null,
   "id": "6ddedab6",
   "metadata": {},
   "outputs": [],
   "source": [
    "backend = service.backend(name = 'computer_name')\n",
    "backend.num_qubits"
   ]
  },
  {
   "cell_type": "markdown",
   "id": "1ab4fbf8",
   "metadata": {},
   "source": [
    "## Map the Knowledge Dependency Between Domains"
   ]
  },
  {
   "cell_type": "markdown",
   "id": "28dfb9ef",
   "metadata": {},
   "source": [
    "### Correlation Matrices Related by Power Laws"
   ]
  },
  {
   "cell_type": "markdown",
   "id": "1c3c66d9",
   "metadata": {},
   "source": [
    "## Clayton Copulas to Estimate Increased Tail Relationships\n",
    "- Explore Quantum Copula"
   ]
  },
  {
   "cell_type": "markdown",
   "id": "15d55813",
   "metadata": {},
   "source": [
    "### Match One-in-N-Scenario Posited Previously"
   ]
  },
  {
   "cell_type": "markdown",
   "id": "fe0dd510",
   "metadata": {},
   "source": [
    "## Bootstrap Current Experience to Estimate Exposure to Parameter Uncertainty"
   ]
  },
  {
   "cell_type": "markdown",
   "id": "2bb9e9cf",
   "metadata": {},
   "source": [
    "### Bootstrap the First 95% of the Distribution\n",
    "- Quantum Monte Carlo"
   ]
  },
  {
   "cell_type": "markdown",
   "id": "05234681",
   "metadata": {},
   "source": [
    "## Extreme Value Theory for the Remaining 5% Tail"
   ]
  },
  {
   "cell_type": "markdown",
   "id": "66dda339",
   "metadata": {},
   "source": [
    "### Fit Generalized Pareto Distribution to the Most Significant Losses"
   ]
  },
  {
   "cell_type": "markdown",
   "id": "d205de4a",
   "metadata": {},
   "source": [
    "### Asymptotically Estimate 1-in-1000 Year Loss Variations"
   ]
  },
  {
   "cell_type": "markdown",
   "id": "d402c8b7",
   "metadata": {},
   "source": [
    "## Price the Expected Loss in Layers\n",
    "- $25M Retained Layer\n",
    "- $50M XS $25M First Excess Layer\n",
    "- $50M XS $75M Second Excess Layer\n",
    "- $75M XS $125M Third Excess Layer"
   ]
  },
  {
   "cell_type": "markdown",
   "id": "4d02183a",
   "metadata": {},
   "source": [
    "### Risk Margin\n",
    "- Quantum Amplitude Estimation for VaR"
   ]
  },
  {
   "cell_type": "markdown",
   "id": "909189f0",
   "metadata": {},
   "source": [
    "## Provision for Adverse Deviation"
   ]
  },
  {
   "cell_type": "markdown",
   "id": "7a94ae58",
   "metadata": {},
   "source": [
    "### PAD for Correlation with Reinsurers' Other Market Instruments\n",
    "- Target a 20% buffer for unforeseen events."
   ]
  },
  {
   "cell_type": "markdown",
   "id": "7cff4112",
   "metadata": {},
   "source": [
    "## Reasonability Check"
   ]
  },
  {
   "cell_type": "markdown",
   "id": "9caf82da",
   "metadata": {},
   "source": [
    "### Rate-on-Line"
   ]
  },
  {
   "cell_type": "code",
   "execution_count": null,
   "id": "0f26bd93",
   "metadata": {},
   "outputs": [],
   "source": []
  }
 ],
 "metadata": {
  "kernelspec": {
   "display_name": "myenv",
   "language": "python",
   "name": "python3"
  },
  "language_info": {
   "codemirror_mode": {
    "name": "ipython",
    "version": 3
   },
   "file_extension": ".py",
   "mimetype": "text/x-python",
   "name": "python",
   "nbconvert_exporter": "python",
   "pygments_lexer": "ipython3",
   "version": "3.12.7"
  }
 },
 "nbformat": 4,
 "nbformat_minor": 5
}
