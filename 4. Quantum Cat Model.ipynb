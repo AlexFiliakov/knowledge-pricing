{
 "cells": [
  {
   "cell_type": "markdown",
   "id": "7e398b76",
   "metadata": {},
   "source": [
    "# Quantum Cat Model"
   ]
  },
  {
   "cell_type": "markdown",
   "id": "4d0fd6b7",
   "metadata": {},
   "source": [
    "## Setup"
   ]
  },
  {
   "cell_type": "code",
   "execution_count": 1,
   "id": "43aa3793",
   "metadata": {},
   "outputs": [],
   "source": [
    "# %pip install qiskit --upgrade\n",
    "# %pip install qiskit-ibm-runtime --upgrade\n",
    "# %pip install qiskit[visualization] --upgrade\n",
    "# %pip install qiskit[all] --upgrade\n",
    "# %pip install pylatexenc --upgrade"
   ]
  },
  {
   "cell_type": "code",
   "execution_count": 2,
   "id": "07032e75",
   "metadata": {},
   "outputs": [],
   "source": [
    "import qiskit"
   ]
  },
  {
   "cell_type": "code",
   "execution_count": 3,
   "id": "92ea15c8",
   "metadata": {},
   "outputs": [
    {
     "data": {
      "text/plain": [
       "'2.0.0'"
      ]
     },
     "execution_count": 3,
     "metadata": {},
     "output_type": "execute_result"
    }
   ],
   "source": [
    "qiskit.__version__"
   ]
  },
  {
   "cell_type": "code",
   "execution_count": 4,
   "id": "746f2a55",
   "metadata": {},
   "outputs": [],
   "source": [
    "import os\n",
    "import sys\n",
    "import numpy as np\n",
    "import pandas as pd\n",
    "import matplotlib.pyplot as plt"
   ]
  },
  {
   "cell_type": "code",
   "execution_count": null,
   "id": "6f53efb1",
   "metadata": {},
   "outputs": [],
   "source": [
    "from qiskit_ibm_runtime import QiskitRuntimeService\n",
    "\n",
    "qtoken = os.environ['QiskitToken']\n",
    "service = QiskitRuntimeService(channel='ibm_cloud',\n",
    "                               token = qtoken)"
   ]
  },
  {
   "cell_type": "code",
   "execution_count": null,
   "id": "6ddedab6",
   "metadata": {},
   "outputs": [],
   "source": [
    "backend = service.backend(name = 'computer_name')\n",
    "backend.num_qubits"
   ]
  },
  {
   "cell_type": "markdown",
   "id": "1ab4fbf8",
   "metadata": {},
   "source": [
    "## Step 1..."
   ]
  }
 ],
 "metadata": {
  "kernelspec": {
   "display_name": "myenv",
   "language": "python",
   "name": "python3"
  },
  "language_info": {
   "codemirror_mode": {
    "name": "ipython",
    "version": 3
   },
   "file_extension": ".py",
   "mimetype": "text/x-python",
   "name": "python",
   "nbconvert_exporter": "python",
   "pygments_lexer": "ipython3",
   "version": "3.12.7"
  }
 },
 "nbformat": 4,
 "nbformat_minor": 5
}
