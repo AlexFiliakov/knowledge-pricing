{
 "cells": [
  {
   "cell_type": "markdown",
   "id": "a9e90c2f",
   "metadata": {},
   "source": [
    "# Quantum Excess Evaluation Algorithm\n",
    "Implementing [Quantum Computational Insurance and Actuarial Science](https://arxiv.org/html/2410.20841v1#S7.SS1)"
   ]
  },
  {
   "cell_type": "code",
   "execution_count": 1,
   "id": "69cc0aa1",
   "metadata": {},
   "outputs": [],
   "source": [
    "# %pip install --force-reinstall -v \"qiskit==1.4.2\"\n",
    "# %pip install qiskit-ibm-runtime --upgrade\n",
    "# %pip install qiskit[visualization] --upgrade\n",
    "# %pip install qiskit[all] --upgrade\n",
    "# %pip install qiskit_aer --upgrade\n",
    "# %pip install qiskit_algorithms --upgrade\n",
    "# %pip install pylatexenc --upgrade"
   ]
  },
  {
   "cell_type": "code",
   "execution_count": 2,
   "id": "534c5377",
   "metadata": {},
   "outputs": [
    {
     "data": {
      "text/plain": [
       "'1.4.2'"
      ]
     },
     "execution_count": 2,
     "metadata": {},
     "output_type": "execute_result"
    }
   ],
   "source": [
    "import os\n",
    "import sys\n",
    "import numpy as np\n",
    "import pandas as pd\n",
    "import matplotlib.pyplot as plt\n",
    "import qiskit\n",
    "\n",
    "qiskit.__version__"
   ]
  },
  {
   "cell_type": "code",
   "execution_count": 3,
   "id": "e57c278d",
   "metadata": {},
   "outputs": [
    {
     "data": {
      "image/png": "[encoded data removed]",
      "text/plain": [
       "<Figure size 287.294x200.667 with 1 Axes>"
      ]
     },
     "execution_count": 3,
     "metadata": {},
     "output_type": "execute_result"
    }
   ],
   "source": [
    "from qiskit import QuantumCircuit\n",
    "\n",
    "qc = QuantumCircuit(2)\n",
    "\n",
    "qc.h(0)\n",
    "qc.cx(0, 1)\n",
    "\n",
    "qc.draw(output='mpl')"
   ]
  },
  {
   "cell_type": "code",
   "execution_count": 4,
   "id": "597dceb2",
   "metadata": {},
   "outputs": [],
   "source": [
    "\n",
    "from qiskit.quantum_info import Pauli\n",
    "\n",
    "ZZ = Pauli('ZZ')\n",
    "ZI = Pauli('ZI')\n",
    "IZ = Pauli('IZ')\n",
    "XX = Pauli('XX')\n",
    "XI = Pauli('XI')\n",
    "IX = Pauli('IX')\n",
    "\n",
    "observables = [ZZ, ZI, IZ, XX, XI, IX]"
   ]
  },
  {
   "cell_type": "code",
   "execution_count": 5,
   "id": "590c8cad",
   "metadata": {},
   "outputs": [
    {
     "data": {
      "text/plain": [
       "EstimatorResult(values=array([1.        , 0.04101562, 0.04101562, 1.        , 0.02734375,\n",
       "       0.02734375]), metadata=[{'shots': 1024, 'variance': 0.0, 'simulator_metadata': [{'batched_shots_optimization': False, 'required_memory_mb': 0, 'method': 'stabilizer', 'active_input_qubits': [0, 1], 'device': 'CPU', 'remapped_qubits': False, 'num_qubits': 2, 'num_clbits': 2, 'time_taken': 0.005558, 'sample_measure_time': 0.0020323, 'input_qubit_map': [[0, 0], [1, 1]], 'max_memory_mb': 14181, 'measure_sampling': True, 'noise': 'ideal', 'parallel_shots': 1, 'parallel_state_update': 16, 'runtime_parameter_bind': False, 'num_bind_params': 1, 'fusion': {'enabled': False}}]}, {'shots': 1024, 'variance': 0.9983177185058594, 'simulator_metadata': [{'batched_shots_optimization': False, 'required_memory_mb': 0, 'method': 'stabilizer', 'active_input_qubits': [0, 1], 'device': 'CPU', 'remapped_qubits': False, 'num_qubits': 2, 'num_clbits': 2, 'time_taken': 0.005558, 'sample_measure_time': 0.0020323, 'input_qubit_map': [[0, 0], [1, 1]], 'max_memory_mb': 14181, 'measure_sampling': True, 'noise': 'ideal', 'parallel_shots': 1, 'parallel_state_update': 16, 'runtime_parameter_bind': False, 'num_bind_params': 1, 'fusion': {'enabled': False}}]}, {'shots': 1024, 'variance': 0.9983177185058594, 'simulator_metadata': [{'batched_shots_optimization': False, 'required_memory_mb': 0, 'method': 'stabilizer', 'active_input_qubits': [0, 1], 'device': 'CPU', 'remapped_qubits': False, 'num_qubits': 2, 'num_clbits': 2, 'time_taken': 0.005558, 'sample_measure_time': 0.0020323, 'input_qubit_map': [[0, 0], [1, 1]], 'max_memory_mb': 14181, 'measure_sampling': True, 'noise': 'ideal', 'parallel_shots': 1, 'parallel_state_update': 16, 'runtime_parameter_bind': False, 'num_bind_params': 1, 'fusion': {'enabled': False}}]}, {'shots': 1024, 'variance': 0.0, 'simulator_metadata': [{'batched_shots_optimization': False, 'required_memory_mb': 0, 'method': 'stabilizer', 'active_input_qubits': [0, 1], 'device': 'CPU', 'remapped_qubits': False, 'num_qubits': 2, 'num_clbits': 2, 'time_taken': 0.0038049, 'sample_measure_time': 0.0017483, 'input_qubit_map': [[0, 0], [1, 1]], 'max_memory_mb': 14181, 'measure_sampling': True, 'noise': 'ideal', 'parallel_shots': 1, 'parallel_state_update': 16, 'runtime_parameter_bind': False, 'num_bind_params': 1, 'fusion': {'enabled': False}}]}, {'shots': 1024, 'variance': 0.9992523193359375, 'simulator_metadata': [{'batched_shots_optimization': False, 'required_memory_mb': 0, 'method': 'stabilizer', 'active_input_qubits': [0, 1], 'device': 'CPU', 'remapped_qubits': False, 'num_qubits': 2, 'num_clbits': 2, 'time_taken': 0.0038049, 'sample_measure_time': 0.0017483, 'input_qubit_map': [[0, 0], [1, 1]], 'max_memory_mb': 14181, 'measure_sampling': True, 'noise': 'ideal', 'parallel_shots': 1, 'parallel_state_update': 16, 'runtime_parameter_bind': False, 'num_bind_params': 1, 'fusion': {'enabled': False}}]}, {'shots': 1024, 'variance': 0.9992523193359375, 'simulator_metadata': [{'batched_shots_optimization': False, 'required_memory_mb': 0, 'method': 'stabilizer', 'active_input_qubits': [0, 1], 'device': 'CPU', 'remapped_qubits': False, 'num_qubits': 2, 'num_clbits': 2, 'time_taken': 0.0038049, 'sample_measure_time': 0.0017483, 'input_qubit_map': [[0, 0], [1, 1]], 'max_memory_mb': 14181, 'measure_sampling': True, 'noise': 'ideal', 'parallel_shots': 1, 'parallel_state_update': 16, 'runtime_parameter_bind': False, 'num_bind_params': 1, 'fusion': {'enabled': False}}]}])"
      ]
     },
     "execution_count": 5,
     "metadata": {},
     "output_type": "execute_result"
    }
   ],
   "source": [
    "from qiskit_aer.primitives import Estimator\n",
    "\n",
    "estimator = Estimator()\n",
    "\n",
    "job = estimator.run([qc] * len(observables), observables)\n",
    "\n",
    "job.result()"
   ]
  },
  {
   "cell_type": "code",
   "execution_count": 6,
   "id": "b4858b0a",
   "metadata": {},
   "outputs": [
    {
     "data": {
      "image/png": "[encoded data removed]",
      "text/plain": [
       "<Figure size 329.554x284.278 with 1 Axes>"
      ]
     },
     "execution_count": 6,
     "metadata": {},
     "output_type": "execute_result"
    }
   ],
   "source": [
    "from qiskit import QuantumRegister\n",
    "from qiskit.circuit.library import RYGate\n",
    "\n",
    "def add_measure_qubit_and_bias(qc: QuantumCircuit,\n",
    "                                label: str = \"meas\") -> QuantumRegister:\n",
    "    \"\"\"\n",
    "    • Allocate ONE fresh qubit at the end of `qc`\n",
    "    • Apply RY(π/2) so it starts in\n",
    "        cos(π/4)|0> + sin(π/4)|1>\n",
    "    • Return the newly‑created QuantumRegister (length 1).\n",
    "    \"\"\"\n",
    "    meas = QuantumRegister(1, label)\n",
    "    qc.add_register(meas)\n",
    "    qc.ry(np.pi / 2, meas[0])                    # RY(π/2) on |0> → |+_y>\n",
    "    return meas\n",
    "\n",
    "def apply_excess_rotations_demo(qc: QuantumCircuit,\n",
    "                                loss_reg: QuantumRegister,\n",
    "                                flag_qubit,\n",
    "                                meas_qubit,\n",
    "                                c: float = 1e-2):\n",
    "    \"\"\"\n",
    "    Implements θ = π/4 + 0.4 c (x‑1) on `meas_qubit`\n",
    "    using a *pair of controls*  (flag == 1  AND  bit_i == 1).\n",
    "\n",
    "    Parameters\n",
    "    ----------\n",
    "    loss_reg    : QuantumRegister\n",
    "        Holds  x-1  (n qubits after the subtractor).\n",
    "    flag_qubit  : Qubit\n",
    "        Set to 1 exactly when the loss is above the deductible.\n",
    "    meas_qubit  : Qubit\n",
    "        The qubit prepared by `add_measure_qubit_and_bias`.\n",
    "    c           : float\n",
    "        Small scale factor in the paper (default 1e‑2).\n",
    "    \"\"\"\n",
    "    n = len(loss_reg)\n",
    "    base = 0.8 * c\n",
    "\n",
    "    for i, bit in enumerate(loss_reg):\n",
    "        weight   = 1 << i                        # 2**i\n",
    "        angle    = base * weight                 # Δθ contribution of this bit\n",
    "        ry_gate  = RYGate(angle)\n",
    "        ccry     = ry_gate.control(2)            # 2‑controlled RY\n",
    "        # controls:  flag , loss_reg[i]   – target: meas_qubit\n",
    "        qc.append(ccry, [flag_qubit, bit, meas_qubit])\n",
    "\n",
    "qc = QuantumCircuit(2)\n",
    "\n",
    "loss_reg = qc.qubits[0:1] # 1) Loss register (2 qubits)\n",
    "flag_q = qc.qubits[1] # 1) Flag qubit\n",
    "\n",
    "# 2) Measurement qubit\n",
    "meas_reg = add_measure_qubit_and_bias(qc)        # returns a QuantumRegister(1)\n",
    "meas_q = meas_reg[0]\n",
    "\n",
    "# 3) Controlled rotations\n",
    "apply_excess_rotations_demo(qc,\n",
    "                            loss_reg=loss_reg,\n",
    "                            flag_qubit=flag_q,\n",
    "                            meas_qubit=meas_q,\n",
    "                            c=1e-2)                   # choose c small (paper says “small number”)\n",
    "\n",
    "qc.draw(output='mpl')"
   ]
  },
  {
   "cell_type": "code",
   "execution_count": 7,
   "id": "dab79b2a",
   "metadata": {},
   "outputs": [
    {
     "data": {
      "image/png": "[encoded data removed]",
      "text/plain": [
       "<Figure size 640x480 with 1 Axes>"
      ]
     },
     "metadata": {},
     "output_type": "display_data"
    }
   ],
   "source": [
    "import matplotlib.pyplot as plt\n",
    "\n",
    "data = ['ZZ', 'ZI', 'IZ', 'XX', 'XI', 'IX']\n",
    "values = job.result().values\n",
    "\n",
    "plt.plot(data, values, '-o')\n",
    "plt.xlabel('Observables')\n",
    "plt.ylabel('Expectation value')\n",
    "plt.show()"
   ]
  },
  {
   "cell_type": "markdown",
   "id": "ce4b452a",
   "metadata": {},
   "source": [
    "## Prepare State"
   ]
  },
  {
   "cell_type": "code",
   "execution_count": 8,
   "id": "31f114e5",
   "metadata": {},
   "outputs": [],
   "source": [
    "import numpy as np\n",
    "import matplotlib.pyplot as plt\n",
    "from qiskit import QuantumCircuit, transpile\n",
    "from qiskit.circuit.library import StatePreparation\n",
    "from qiskit.visualization import plot_histogram\n",
    "from qiskit_aer import Aer\n",
    "from scipy.stats import lognorm\n",
    "\n",
    "# Parameters\n",
    "num_qubits = 5  # Using 6 qubits for demonstration, scalable approach\n",
    "domain_min = 0\n",
    "domain_max = 10\n",
    "deductible = 1.0  # Deductible amount\n",
    "\n",
    "# Define lognormal distribution parameters\n",
    "sigma = 1.0  # Shape parameter\n",
    "mu = 0.0     # Scale parameter\n",
    "\n",
    "def lognormal_loss(x):\n",
    "    \"\"\"Lognormal loss function\"\"\"\n",
    "    return lognorm.pdf(x, sigma, loc=0, scale=np.exp(mu))\n",
    "\n",
    "# Discretize domain into 2^num_qubits points\n",
    "N = 2**num_qubits\n",
    "step = (domain_max - domain_min) / (N - 1)\n",
    "# Take the midpoint integral approximation to work on small number of qubits\n",
    "mid_x_vals = np.linspace(\n",
    "    domain_min + step / 2,\n",
    "    domain_max - step / 2,\n",
    "    N\n",
    ")\n",
    "probabilities = np.array([lognormal_loss(x) * step for x in mid_x_vals])\n",
    "probabilities /= probabilities.sum()\n",
    "\n",
    "# Full distribution for visualization\n",
    "full_sims = 10_000\n",
    "full_x_vals = np.linspace(domain_min, domain_max, full_sims)\n",
    "full_step = (domain_max - domain_min) / (full_sims - 1)\n",
    "full_mid_vals = np.linspace(\n",
    "    domain_min + full_step / 2,\n",
    "    domain_max - full_step / 2,\n",
    "    full_sims\n",
    ")\n",
    "full_probabilities = np.array([lognormal_loss(x) * full_step for x in full_mid_vals])\n",
    "full_probabilities /= full_probabilities.sum()\n",
    "\n",
    "# Calculate amplitudes (square root of probabilities)\n",
    "amplitudes = np.sqrt(probabilities)\n",
    "\n",
    "# Create quantum circuit for state preparation\n",
    "qc = QuantumCircuit(num_qubits)\n",
    "qc.append(StatePreparation(amplitudes), range(num_qubits))\n",
    "\n",
    "# Visualize the circuit (truncated for readability)\n",
    "# qc.draw(output='mpl')\n",
    "\n",
    "# Transpile the circuit to basic gates that Aer supports\n",
    "qc = transpile(qc, basis_gates=['u3', 'cx'])\n",
    "# qc.draw(output='mpl')"
   ]
  },
  {
   "cell_type": "code",
   "execution_count": 9,
   "id": "15adfe74",
   "metadata": {},
   "outputs": [
    {
     "data": {
      "image/png": "[encoded data removed]",
      "text/plain": [
       "<Figure size 1000x600 with 1 Axes>"
      ]
     },
     "metadata": {},
     "output_type": "display_data"
    }
   ],
   "source": [
    "# Validate our state preparation by measuring\n",
    "backend = Aer.get_backend('statevector_simulator')\n",
    "statevector = backend.run(qc).result().get_statevector()\n",
    "\n",
    "# Calculate the resulting probabilities\n",
    "measured_probs = np.abs(statevector)**2\n",
    "\n",
    "# Plot the original distribution vs quantum encoded distribution\n",
    "plt.figure(figsize=(10, 6))\n",
    "plt.plot(full_x_vals, full_probabilities / full_step, 'b-', label='Original Distribution')\n",
    "plt.plot(mid_x_vals, measured_probs / step, 'r--', label='Quantum Encoding')\n",
    "plt.xlabel('Domain [0-10]')\n",
    "plt.ylabel('Probability')\n",
    "plt.xticks(np.arange(domain_min, domain_max + 1, 1))\n",
    "plt.title('Standard Lognormal Distribution Encoding')\n",
    "plt.legend()\n",
    "plt.tight_layout()\n",
    "plt.axis([0, None, 0, None])\n",
    "plt.show()\n",
    "\n",
    "# # Display the first few amplitudes\n",
    "# print(\"First 10 amplitudes:\")\n",
    "# for i in range(10):\n",
    "#     print(\n",
    "#         f\"State |{i}⟩: √p_j = {amplitudes[i]:.6f}, p_j = {probabilities[i]:.6f}\")"
   ]
  },
  {
   "cell_type": "markdown",
   "id": "d494f442",
   "metadata": {},
   "source": [
    "### Plot State Degeneration With Decreased Qubits"
   ]
  },
  {
   "cell_type": "code",
   "execution_count": 10,
   "id": "7ccf4fd6",
   "metadata": {},
   "outputs": [],
   "source": [
    "# num_qubits_list = range(2, 8)\n",
    "# N_list = [2**n for n in num_qubits_list]\n",
    "# step_list = [(domain_max - domain_min) / (N - 1) for N in N_list]\n",
    "# # Take the midpoint integral approximation to work on small number of qubits\n",
    "# mid_x_vals_list = [np.linspace(domain_min + step / 2, domain_max - step / 2, N) for N in N_list]\n",
    "# probabilities_list = []\n",
    "# for i, N in enumerate(N_list):\n",
    "#     x_vals = mid_x_vals_list[i]\n",
    "#     step = step_list[i]\n",
    "#     probabilities = np.array([lognormal_loss(x) * step for x in x_vals])\n",
    "#     probabilities /= probabilities.sum()\n",
    "#     probabilities_list.append(probabilities)\n",
    "\n",
    "# # Add Color\n",
    "# cmap = plt.cm.get_cmap('Reds', len(num_qubits_list) + 2)\n",
    "\n",
    "# # Plot the original distribution vs quantum encoded distribution\n",
    "# plt.figure(figsize=(10, 6))\n",
    "# plt.plot(full_x_vals, full_probabilities / full_step, 'b-', label='Original Distribution')\n",
    "# for i, N in enumerate(num_qubits_list):\n",
    "#     x_vals = mid_x_vals_list[i]\n",
    "#     step = step_list[i]\n",
    "#     probabilities = probabilities_list[i]\n",
    "#     alpha = 1/(i/2 + 1)\n",
    "#     plt.plot(x_vals, probabilities / step, 'r-', alpha=alpha, label=f'Quantum Encoding ({N} qubits)')\n",
    "# plt.xlabel('Domain [0-10]')\n",
    "# plt.ylabel('Probability')\n",
    "# plt.xticks(np.arange(domain_min, domain_max + 1, 1))\n",
    "# plt.title('Loss Distribution Degeneration')\n",
    "# plt.legend()\n",
    "# plt.tight_layout()\n",
    "# plt.axis([0, None, 0, None])\n",
    "# plt.show()\n",
    "\n",
    "# # # Display the first few amplitudes\n",
    "# # print(\"First 10 amplitudes:\")\n",
    "# # for i in range(10):\n",
    "# #     print(\n",
    "# #         f\"State |{i}⟩: √p_j = {amplitudes[i]:.6f}, p_j = {probabilities[i]:.6f}\")"
   ]
  },
  {
   "cell_type": "markdown",
   "id": "3b256670",
   "metadata": {},
   "source": [
    "### Diagnostic"
   ]
  },
  {
   "cell_type": "markdown",
   "id": "8d4af4e7",
   "metadata": {},
   "source": [
    "## Implement Quantum Subtraction"
   ]
  },
  {
   "cell_type": "code",
   "execution_count": 11,
   "id": "0136926b",
   "metadata": {},
   "outputs": [
    {
     "name": "stdout",
     "output_type": "stream",
     "text": [
      "threshold = 3\n",
      "binary threshold = 00011\n"
     ]
    }
   ],
   "source": [
    "# index of the first grid‑point *above* the deductible\n",
    "step         = (domain_max - domain_min) / (N - 1)\n",
    "threshold_idx = np.searchsorted(mid_x_vals, deductible, side=\"left\")\n",
    "print(f\"threshold = {threshold_idx}\")\n",
    "print(f\"binary threshold = {threshold_idx:0{num_qubits}b}\")\n",
    "\n",
    "# def reverse_bits(k: int, n: int) -> int:\n",
    "#     \"\"\"\n",
    "#     Fix qubit reference since IBM is little-endian (in fact that doesn't seem to be the case).\n",
    "#     Reverse the bits of `k` in a binary representation of length `n`.\n",
    "#     \"\"\"\n",
    "#     b = f\"{k:0{n}b}\"\n",
    "#     return int(b[::-1], 2)\n",
    "\n",
    "# threshold_rev = reverse_bits(threshold_idx, num_qubits)\n",
    "# print(f\"little-endian binary threshold = {threshold_rev:0{num_qubits}b}\")"
   ]
  },
  {
   "cell_type": "markdown",
   "id": "600475fe",
   "metadata": {},
   "source": [
    "### Endianness Diagnostic"
   ]
  },
  {
   "cell_type": "code",
   "execution_count": 12,
   "id": "9ae695e8",
   "metadata": {},
   "outputs": [
    {
     "name": "stdout",
     "output_type": "stream",
     "text": [
      "classical tail = 0.5062002543767263\n",
      "     MSB→LSB ordering →  P(flag=1) = 0.506200\n",
      "LSB→MSB (rev) ordering →  P(flag=1) = 0.820411\n"
     ]
    }
   ],
   "source": [
    "import numpy as np\n",
    "from qiskit import QuantumCircuit, QuantumRegister\n",
    "from qiskit.circuit.library import StatePreparation\n",
    "from qiskit.circuit.library.arithmetic.integer_comparator import IntegerComparator\n",
    "from qiskit.quantum_info import Statevector\n",
    "\n",
    "# 1. Build the state-prep circuit\n",
    "loss_q   = QuantumRegister(num_qubits, \"x\")\n",
    "qc_prep  = QuantumCircuit(loss_q)\n",
    "qc_prep.append(StatePreparation(np.sqrt(probabilities)), loss_q)\n",
    "\n",
    "# 2. Prepare registers for the comparator test\n",
    "flag_q   = QuantumRegister(1,             \"flag\")\n",
    "wcmp_q   = QuantumRegister(num_qubits-1,  \"wcmp\")\n",
    "qc = qc_prep.copy()\n",
    "qc.add_register(flag_q, wcmp_q)\n",
    "\n",
    "# 3. Define the comparator gate\n",
    "cmp_gate = IntegerComparator(num_state_qubits=num_qubits,\n",
    "                            value=threshold_idx,\n",
    "                            geq=True)\n",
    "\n",
    "# 4. Try both orderings\n",
    "print(\"classical tail =\", probabilities[threshold_idx:].sum())\n",
    "for name, order in [(\"MSB→LSB\",       list(loss_q)),\n",
    "                    (\"LSB→MSB (rev)\", list(reversed(loss_q)))]:\n",
    "    qc_test = qc.copy()\n",
    "    qc_test.append(cmp_gate,\n",
    "                    order         # try one of the two\n",
    "                    + [flag_q[0]]  # then the flag\n",
    "                    + list(wcmp_q))# then the workspace\n",
    "    p_flag = Statevector.from_instruction(qc_test) \\\n",
    "            .probabilities_dict(qargs=[qc_test.qubits.index(flag_q[0])]) \\\n",
    "            .get('1',0)\n",
    "    print(f\"{name:>12} ordering →  P(flag=1) = {p_flag:.6f}\")\n"
   ]
  },
  {
   "cell_type": "code",
   "execution_count": 13,
   "id": "3bf4c7a8",
   "metadata": {},
   "outputs": [
    {
     "name": "stdout",
     "output_type": "stream",
     "text": [
      "⦿ classical P(X≥1) = 0.5062002543767266\n",
      "⦿ quantum  P(flag=1) = 0.506200254376738\n",
      "⦿ after QFT-sub, P(flag=1) = 0.5062002543767372\n"
     ]
    }
   ],
   "source": [
    "from qiskit import QuantumCircuit, QuantumRegister\n",
    "from qiskit.circuit.library import StatePreparation, QFT\n",
    "from qiskit.circuit.library.arithmetic.integer_comparator import IntegerComparator\n",
    "from qiskit.quantum_info import Statevector\n",
    "\n",
    "# --- 0) parameters & grid ------------------------------------------------\n",
    "domain_min, domain_max = 0, 10\n",
    "sigma, mu              = 1.0, 0.0\n",
    "N    = 2**num_qubits\n",
    "step = (domain_max - domain_min) / (N - 1)\n",
    "# mid-point grid\n",
    "x_vals = np.linspace(domain_min + step/2,\n",
    "                    domain_max - step/2,\n",
    "                    N)\n",
    "# probabilities & normalization\n",
    "from scipy.stats import lognorm\n",
    "probs = np.array([lognorm.pdf(x, sigma, loc=0, scale=np.exp(mu))\n",
    "                for x in x_vals])\n",
    "probs /= probs.sum()\n",
    "threshold_idx = np.searchsorted(x_vals, 1.0, side=\"left\")\n",
    "\n",
    "print(\"⦿ classical P(X≥1) =\", probs[threshold_idx:].sum())\n",
    "\n",
    "# --- 1) State-prep --------------------------------------------------------\n",
    "x_q = QuantumRegister(num_qubits, \"x\")\n",
    "qc  = QuantumCircuit(x_q)\n",
    "qc.append(StatePreparation(np.sqrt(probs)), x_q)\n",
    "\n",
    "# --- 2) Comparator → flag  (MSB→LSB) --------------------------------------\n",
    "flag_q = QuantumRegister(1, \"flag\")\n",
    "wcmp_q = QuantumRegister(num_qubits-1, \"wcmp\")\n",
    "qc.add_register(flag_q, wcmp_q)\n",
    "\n",
    "cmp_gate = IntegerComparator(num_state_qubits=num_qubits,\n",
    "                            value=threshold_idx,\n",
    "                            geq=True)\n",
    "# MSB→LSB: x_q[0] is MSB, x_q[-1] is LSB\n",
    "qc.append(cmp_gate,\n",
    "        list(x_q)      # MSB→LSB\n",
    "        + [flag_q[0]]  # then the flag\n",
    "        + list(wcmp_q))\n",
    "\n",
    "# sanity-check the comparator alone\n",
    "sv     = Statevector.from_instruction(qc)\n",
    "f_idx  = qc.qubits.index(flag_q[0])\n",
    "p_flag = sv.probabilities_dict(qargs=[f_idx]).get('1', 0)\n",
    "print(\"⦿ quantum  P(flag=1) =\", p_flag)\n",
    "\n",
    "# --- 3) QFT-subtractor (controlled on the same flag) ----------------------\n",
    "#   subtract threshold mod 2^n via phases in the QFT basis\n",
    "sub_qft = QuantumCircuit(x_q, flag_q, name=\"QFT-Sub\")\n",
    "qft     = QFT(num_qubits, do_swaps=False)\n",
    "sub_qft.append(qft, x_q)\n",
    "\n",
    "for i in range(num_qubits):\n",
    "    angle = -2 * np.pi * threshold_idx / (2 ** (i+1))\n",
    "    sub_qft.crz(angle, flag_q[0], x_q[i])\n",
    "\n",
    "sub_qft.append(qft.inverse(), x_q)\n",
    "\n",
    "# append that\n",
    "qc.append(sub_qft.to_instruction(), list(x_q) + [flag_q[0]])\n",
    "\n",
    "# (flag still=1 exactly when X≥1, and x_q now holds j-threshold mod 2^n)\n",
    "\n",
    "# Final sanity-check\n",
    "sv2    = Statevector.from_instruction(qc)\n",
    "p_flag2 = sv2.probabilities_dict(qargs=[f_idx]).get('1', 0)\n",
    "print(\"⦿ after QFT-sub, P(flag=1) =\", p_flag2)\n",
    "\n",
    "# --- 4) (optional) controlled-rotations + measurement --------------------\n",
    "# from here you can call add_measure_qubit_and_bias(qc) and\n",
    "# apply_excess_rotations(qc, x_q, flag_q[0], meas_q[0], step, c_param)\n",
    "# then measure and back-out the expected payment.  \n",
    "\n",
    "# Your P(flag=1) should now be ~0.5062, and your final E[payment] ~0.34."
   ]
  },
  {
   "cell_type": "markdown",
   "id": "88176d53",
   "metadata": {},
   "source": [
    "## Controlled Rotations"
   ]
  },
  {
   "cell_type": "code",
   "execution_count": 14,
   "id": "d0a1a469",
   "metadata": {},
   "outputs": [],
   "source": [
    "from qiskit.circuit.library import RYGate\n",
    "\n",
    "def add_measure_qubit_and_bias(qc: QuantumCircuit,\n",
    "                                label: str = \"meas\") -> QuantumRegister:\n",
    "    \"\"\"\n",
    "    • Allocate ONE fresh qubit at the end of `qc`\n",
    "    • Apply RY(π/2) so it starts in\n",
    "        cos(π/4)|0> + sin(π/4)|1>\n",
    "    • Return the newly‑created QuantumRegister (length 1).\n",
    "    \"\"\"\n",
    "    meas = QuantumRegister(1, label)\n",
    "    qc.add_register(meas)\n",
    "    qc.ry(np.pi / 2, meas[0])                    # RY(π/2) on |0> → |+_y>\n",
    "    return meas\n",
    "\n",
    "def apply_excess_rotations(qc: QuantumCircuit,\n",
    "                            loss_reg: QuantumRegister,\n",
    "                            flag_qubit,\n",
    "                            meas_qubit,\n",
    "                            step,\n",
    "                            coins = 0.4,\n",
    "                            c: float = 1e-2):\n",
    "    \"\"\"\n",
    "    Implements θ = π/4 + 0.4 c (x‑1) on `meas_qubit`\n",
    "    using a *pair of controls*  (flag == 1  AND  bit_i == 1).\n",
    "\n",
    "    Parameters\n",
    "    ----------\n",
    "    loss_reg    : QuantumRegister\n",
    "        Holds  x-1  (n qubits after the subtractor).\n",
    "    flag_qubit  : Qubit\n",
    "        Set to 1 exactly when the loss is above the deductible.\n",
    "    meas_qubit  : Qubit\n",
    "        The qubit prepared by `add_measure_qubit_and_bias`.\n",
    "    c           : float\n",
    "        Small scale factor in the paper (default 1e‑2).\n",
    "    \"\"\"\n",
    "    n = len(loss_reg)\n",
    "    base = 2 * coins * c * step\n",
    "\n",
    "    for i, bit in enumerate(loss_reg):\n",
    "        weight   = 1 << i                        # 2**i\n",
    "        angle    = base * weight                 # Δθ contribution of this bit\n",
    "        ry_gate  = RYGate(angle)\n",
    "        ccry     = ry_gate.control(2)            # 2‑controlled RY\n",
    "        # controls:  flag , loss_reg[i]   – target: meas_qubit\n",
    "        qc.append(ccry, [flag_qubit, bit, meas_qubit])"
   ]
  },
  {
   "cell_type": "code",
   "execution_count": 15,
   "id": "1c4b5251",
   "metadata": {},
   "outputs": [
    {
     "data": {
      "text/plain": [
       "CircuitInstruction(operation=Instruction(name='barrier', num_qubits=11, num_clbits=0, params=[]), qubits=(Qubit(QuantumRegister(5, 'x'), 0), Qubit(QuantumRegister(5, 'x'), 1), Qubit(QuantumRegister(5, 'x'), 2), Qubit(QuantumRegister(5, 'x'), 3), Qubit(QuantumRegister(5, 'x'), 4), Qubit(QuantumRegister(1, 'flag'), 0), Qubit(QuantumRegister(4, 'wcmp'), 0), Qubit(QuantumRegister(4, 'wcmp'), 1), Qubit(QuantumRegister(4, 'wcmp'), 2), Qubit(QuantumRegister(4, 'wcmp'), 3), Qubit(QuantumRegister(1, 'meas'), 0)), clbits=())"
      ]
     },
     "execution_count": 15,
     "metadata": {},
     "output_type": "execute_result"
    }
   ],
   "source": [
    "# 1) Our circuit so far\n",
    "# qc  –  contains:  • loss register  (called loss_reg or qc.qregs[0])\n",
    "#                   • flag qubit    (the output of subtract_if_excess)\n",
    "\n",
    "loss_reg = qc.qregs[0]             # 6 qubits\n",
    "flag_q = qc.qubits[loss_reg.size]\n",
    "\n",
    "# 2) Measurement qubit\n",
    "meas_reg = add_measure_qubit_and_bias(qc)        # returns a QuantumRegister(1)\n",
    "meas_q = meas_reg[0]\n",
    "\n",
    "# 3) Controlled rotations\n",
    "apply_excess_rotations(qc,\n",
    "                        loss_reg=loss_reg,\n",
    "                        flag_qubit=flag_q,\n",
    "                        meas_qubit=meas_q,\n",
    "                        step=step,\n",
    "                        c=1e-2)                   # choose c small (paper says “small number”)\n",
    "\n",
    "qc.barrier(label=\"controlled RY block\")\n",
    "# qc.draw(output='mpl')"
   ]
  },
  {
   "cell_type": "markdown",
   "id": "4dd0c1fb",
   "metadata": {},
   "source": [
    "## Amplitude Estimation Using Quantum Phase Estimation"
   ]
  },
  {
   "cell_type": "code",
   "execution_count": 35,
   "id": "14950e69",
   "metadata": {},
   "outputs": [
    {
     "name": "stderr",
     "output_type": "stream",
     "text": [
      "C:\\Users\\alexf\\AppData\\Local\\Temp\\ipykernel_46300\\3037783694.py:12: DeprecationWarning: Treating CircuitInstruction as an iterable is deprecated legacy behavior since Qiskit 1.2, and will be removed in Qiskit 2.0. Instead, use the `operation`, `qubits` and `clbits` named attributes.\n",
      "  for inst, qargs, cargs in unitary_qc.data\n",
      "C:\\Users\\alexf\\AppData\\Local\\Temp\\ipykernel_46300\\3037783694.py:26: DeprecationWarning: The class ``qiskit.primitives.sampler.Sampler`` is deprecated as of qiskit 1.2. It will be removed no earlier than 3 months after the release date. All implementations of the `BaseSamplerV1` interface have been deprecated in favor of their V2 counterparts. The V2 alternative for the `Sampler` class is `StatevectorSampler`.\n",
      "  sampler=Sampler(options={\"shots\": 5})\n"
     ]
    },
    {
     "name": "stdout",
     "output_type": "stream",
     "text": [
      "QPE p1: 0.5\n",
      "E[payment]: 0.0\n"
     ]
    }
   ],
   "source": [
    "from qiskit_algorithms import AmplitudeEstimation, EstimationProblem\n",
    "from qiskit.primitives import Sampler\n",
    "\n",
    "c_param = 1e-2 # <-- keep in sync with apply_excess_rotations\n",
    "\n",
    "# 1) Take your in-place decomposed & measure-stripped circuit:\n",
    "unitary_qc = qc.copy()\n",
    "unitary_qc.remove_final_measurements()\n",
    "unitary_qc = unitary_qc.decompose(reps=10)\n",
    "unitary_qc.data = [\n",
    "    (inst, qargs, cargs)\n",
    "    for inst, qargs, cargs in unitary_qc.data\n",
    "    if inst.name not in (\"barrier\", \"reset\", \"measure\")\n",
    "]\n",
    "\n",
    "ancilla_idx = unitary_qc.num_qubits - 1\n",
    "\n",
    "# 2) Use the QC (not a Gate) as your state_prep:\n",
    "problem = EstimationProblem(\n",
    "    state_preparation=unitary_qc,\n",
    "    objective_qubits=[ancilla_idx],\n",
    ")\n",
    "\n",
    "ae = AmplitudeEstimation(\n",
    "    num_eval_qubits=5,\n",
    "    sampler=Sampler(options={\"shots\": 5})\n",
    ")\n",
    "result = ae.estimate(problem)\n",
    "\n",
    "p1 = result.estimation\n",
    "print(\"QPE p1:\", p1)\n",
    "print(\"E[payment]:\", (p1 - 0.5) / c_param)\n"
   ]
  },
  {
   "cell_type": "code",
   "execution_count": null,
   "id": "d3946515",
   "metadata": {},
   "outputs": [],
   "source": []
  },
  {
   "cell_type": "code",
   "execution_count": null,
   "id": "3ff635a8",
   "metadata": {},
   "outputs": [],
   "source": []
  },
  {
   "cell_type": "code",
   "execution_count": null,
   "id": "fa8feaf6",
   "metadata": {},
   "outputs": [],
   "source": []
  },
  {
   "cell_type": "markdown",
   "id": "a0998aea",
   "metadata": {},
   "source": [
    "## Measure Expectation from State Vector"
   ]
  },
  {
   "cell_type": "code",
   "execution_count": null,
   "id": "cd64f97e",
   "metadata": {},
   "outputs": [],
   "source": [
    "from qiskit.quantum_info import Statevector, partial_trace\n",
    "\n",
    "# names below follow the helpers we built earlier\n",
    "loss_reg  = qc.qregs[0]\n",
    "flag_q    = f_idx\n",
    "meas_q    = qc.qubits.index(qc.qregs[-1][0]) # last qubit added by add_measure_qubit_and_bias\n",
    "c_param   = 1e-2 # <-- keep in sync with apply_excess_rotations\n",
    "coins = 0.4\n",
    "\n",
    "def expected_payment_exact(circ: QuantumCircuit,\n",
    "                            meas_idx: int,\n",
    "                            c: float) -> float:\n",
    "    \"\"\"Directly compute E[payout] from the final state‑vector.\"\"\"\n",
    "    sv  = Statevector.from_instruction(circ)\n",
    "\n",
    "    # Trace out all qubits except the measurement qubit\n",
    "    rho_meas = partial_trace(sv, [q for q in range(circ.num_qubits) if q != meas_idx])\n",
    "    p1       = np.real(rho_meas.data[1, 1])          # probability of |1>\n",
    "\n",
    "    return (p1 - 0.5) / c"
   ]
  },
  {
   "cell_type": "code",
   "execution_count": null,
   "id": "034a98cd",
   "metadata": {},
   "outputs": [
    {
     "name": "stdout",
     "output_type": "stream",
     "text": [
      "deductible: 1.0 thr idx: 3 thr*step: 0.967741935483871\n"
     ]
    }
   ],
   "source": [
    "thr = int((deductible - domain_min) / step)\n",
    "print(\"deductible:\", deductible,\n",
    "      \"thr idx:\", thr,\n",
    "      \"thr*step:\", thr*step)"
   ]
  },
  {
   "cell_type": "code",
   "execution_count": null,
   "id": "0f0b3bea",
   "metadata": {},
   "outputs": [
    {
     "name": "stdout",
     "output_type": "stream",
     "text": [
      "Exact (state‑vector)  E[payment] = 0.28211025\n"
     ]
    }
   ],
   "source": [
    "pay_exact = expected_payment_exact(qc, meas_q, c_param)\n",
    "print(f\"Exact (state‑vector)  E[payment] = {pay_exact:.8f}\")"
   ]
  },
  {
   "cell_type": "code",
   "execution_count": null,
   "id": "2aa6e847",
   "metadata": {},
   "outputs": [],
   "source": [
    "# e_pmt_qubits_2 = 0.21836028\n",
    "# e_pmt_qubits_3 = 0.14832136\n",
    "# e_pmt_qubits_4 = 0.12212892\n",
    "e_pmt_qubits_5 = 0.27389161\n",
    "e_pmt_qubits_6 = 0.29480261\n",
    "# e_pmt_qubits_7 = 0.28810405\n",
    "# e_pmt_qubits_8 = None\n",
    "# e_pmt_qubits_9 = None\n",
    "# e_pmt_qubits_10 = None"
   ]
  },
  {
   "cell_type": "markdown",
   "id": "1192e688",
   "metadata": {},
   "source": [
    "## Convergence Study"
   ]
  },
  {
   "cell_type": "code",
   "execution_count": null,
   "id": "5fbe8717",
   "metadata": {},
   "outputs": [],
   "source": [
    "from qiskit_aer import Aer\n",
    "from qiskit import ClassicalRegister, transpile\n",
    "\n",
    "def convergence_study(circ,\n",
    "                    meas_idx,\n",
    "                    c_param,\n",
    "                    coins=0.4,\n",
    "                    shot_grid=(100, 500, 1_000, 5_000, 10_000, 50_000, 100_000),\n",
    "                    seed=1234):\n",
    "    \"\"\"Return a DataFrame with estimates vs. shots and draw a log‑x plot.\"\"\"\n",
    "\n",
    "    backend = Aer.get_backend(\"qasm_simulator\")\n",
    "\n",
    "    # helper: single‑shot Monte‑Carlo estimator\n",
    "    def _estimate(shots):\n",
    "        qc_samp = circ.copy()\n",
    "        creg    = ClassicalRegister(1, 'c')\n",
    "        qc_samp.add_register(creg)\n",
    "        qc_samp.measure(qc_samp.qubits[meas_idx], creg[0])\n",
    "\n",
    "        counts = backend.run(transpile(qc_samp, backend),\n",
    "                            shots=shots, seed_simulator=seed).result().get_counts()\n",
    "        p1      = counts.get('1', 0) / shots\n",
    "        excess  = (p1 - 0.5) / (coins * c_param)\n",
    "        return coins * excess\n",
    "\n",
    "    # run for each shot count\n",
    "    estimates = [_estimate(s) for s in shot_grid]\n",
    "    df = pd.DataFrame({\"shots\": shot_grid, \"expected_payment\": estimates})\n",
    "\n",
    "    # --- visualise --------------------------------------------------------\n",
    "    plt.figure(figsize=(7, 4))\n",
    "    plt.plot(df[\"shots\"], df[\"expected_payment\"], \"-o\")\n",
    "    plt.xscale(\"log\")\n",
    "    plt.xlabel(\"shots (log scale)\")\n",
    "    plt.ylabel(\"expected reinsurer payment\")\n",
    "    plt.title(\"Monte‑Carlo convergence\")\n",
    "    plt.grid(True, which=\"both\", ls=\"--\")\n",
    "    plt.show()\n",
    "\n",
    "    return df"
   ]
  },
  {
   "cell_type": "code",
   "execution_count": null,
   "id": "f6a77376",
   "metadata": {},
   "outputs": [],
   "source": [
    "# df_conv = convergence_study(qc,\n",
    "#                             meas_idx=meas_q,\n",
    "#                             c_param=c_param,\n",
    "#                             coins=coins,\n",
    "#                             shot_grid=np.linspace(100, 100_000, 100))\n",
    "# # Save for later comparison, if you like\n",
    "# df_conv.to_csv(\"mc_convergence.csv\", index=False)\n",
    "# df_conv"
   ]
  },
  {
   "cell_type": "code",
   "execution_count": null,
   "id": "ffa467af",
   "metadata": {},
   "outputs": [
    {
     "name": "stdout",
     "output_type": "stream",
     "text": [
      "AE payout ≈ 0.282110  (oracle calls = 0)\n"
     ]
    },
    {
     "name": "stderr",
     "output_type": "stream",
     "text": [
      "C:\\Users\\alexf\\AppData\\Local\\Temp\\ipykernel_89996\\659920527.py:4: DeprecationWarning: The class ``qiskit.primitives.sampler.Sampler`` is deprecated as of qiskit 1.2. It will be removed no earlier than 3 months after the release date. All implementations of the `BaseSamplerV1` interface have been deprecated in favor of their V2 counterparts. The V2 alternative for the `Sampler` class is `StatevectorSampler`.\n",
      "  sampler = Sampler()                                   # AerSampler by default\n"
     ]
    }
   ],
   "source": [
    "from qiskit.primitives import Sampler\n",
    "from qiskit_algorithms import IterativeAmplitudeEstimation, EstimationProblem\n",
    "\n",
    "sampler = Sampler()                                   # AerSampler by default\n",
    "problem = EstimationProblem(\n",
    "    state_preparation = qc,\n",
    "    objective_qubits  = [meas_q]\n",
    ")\n",
    "\n",
    "iae = IterativeAmplitudeEstimation(\n",
    "        epsilon_target = 0.01,        # desired abs‑err on amplitude\n",
    "        alpha          = 0.05,        # 95 % confidence\n",
    "        sampler        = sampler)\n",
    "\n",
    "result = iae.estimate(problem)\n",
    "p1     = result.estimation\n",
    "calls  = result.num_oracle_queries\n",
    "\n",
    "excess   = (p1 - 0.5) / (0.4 * c_param)\n",
    "payment  = 0.4 * excess\n",
    "print(f\"AE payout ≈ {payment:.6f}  (oracle calls = {calls})\")"
   ]
  },
  {
   "cell_type": "code",
   "execution_count": null,
   "id": "51b4f964",
   "metadata": {},
   "outputs": [
    {
     "ename": "KeyError",
     "evalue": "0",
     "output_type": "error",
     "traceback": [
      "\u001b[1;31m---------------------------------------------------------------------------\u001b[0m",
      "\u001b[1;31mKeyError\u001b[0m                                  Traceback (most recent call last)",
      "Cell \u001b[1;32mIn[23], line 29\u001b[0m\n\u001b[0;32m     26\u001b[0m     payment  \u001b[38;5;241m=\u001b[39m \u001b[38;5;241m0.4\u001b[39m \u001b[38;5;241m*\u001b[39m excess\n\u001b[0;32m     27\u001b[0m     \u001b[38;5;28;01mreturn\u001b[39;00m payment, result\u001b[38;5;241m.\u001b[39mnum_oracle_queries\n\u001b[1;32m---> 29\u001b[0m pay_iqae, calls \u001b[38;5;241m=\u001b[39m expected_payment_via_iqae_legacy(qc, meas_q, c_param, coins,\n\u001b[0;32m     30\u001b[0m                                                     epsilon\u001b[38;5;241m=\u001b[39m\u001b[38;5;241m2e-3\u001b[39m, alpha\u001b[38;5;241m=\u001b[39m\u001b[38;5;241m0.05\u001b[39m)\n\u001b[0;32m     31\u001b[0m \u001b[38;5;28mprint\u001b[39m(\u001b[38;5;124mf\u001b[39m\u001b[38;5;124m\"\u001b[39m\u001b[38;5;124mIQAE (legacy)        E[payment] = \u001b[39m\u001b[38;5;132;01m{\u001b[39;00mpay_iqae\u001b[38;5;132;01m:\u001b[39;00m\u001b[38;5;124m.8f\u001b[39m\u001b[38;5;132;01m}\u001b[39;00m\u001b[38;5;124m (oracle calls = \u001b[39m\u001b[38;5;132;01m{\u001b[39;00mcalls\u001b[38;5;132;01m}\u001b[39;00m\u001b[38;5;124m)\u001b[39m\u001b[38;5;124m\"\u001b[39m)\n",
      "Cell \u001b[1;32mIn[23], line 22\u001b[0m, in \u001b[0;36mexpected_payment_via_iqae_legacy\u001b[1;34m(circ, meas_idx, c, coins, epsilon, alpha)\u001b[0m\n\u001b[0;32m     12\u001b[0m problem \u001b[38;5;241m=\u001b[39m EstimationProblem(\n\u001b[0;32m     13\u001b[0m     state_preparation \u001b[38;5;241m=\u001b[39m circ,\n\u001b[0;32m     14\u001b[0m     objective_qubits  \u001b[38;5;241m=\u001b[39m [meas_idx]\n\u001b[0;32m     15\u001b[0m )\n\u001b[0;32m     17\u001b[0m iae \u001b[38;5;241m=\u001b[39m IterativeAmplitudeEstimation(\n\u001b[0;32m     18\u001b[0m         epsilon_target \u001b[38;5;241m=\u001b[39m epsilon,\n\u001b[0;32m     19\u001b[0m         alpha          \u001b[38;5;241m=\u001b[39m alpha,\n\u001b[0;32m     20\u001b[0m         sampler        \u001b[38;5;241m=\u001b[39m sampler)\n\u001b[1;32m---> 22\u001b[0m result \u001b[38;5;241m=\u001b[39m iae\u001b[38;5;241m.\u001b[39mestimate(problem)\n\u001b[0;32m     23\u001b[0m p1     \u001b[38;5;241m=\u001b[39m result\u001b[38;5;241m.\u001b[39mestimation\n\u001b[0;32m     24\u001b[0m calls  \u001b[38;5;241m=\u001b[39m result\u001b[38;5;241m.\u001b[39mnum_oracle_queries\n",
      "File \u001b[1;32mc:\\Users\\alexf\\miniconda3\\envs\\myenv\\Lib\\site-packages\\qiskit_algorithms\\amplitude_estimators\\iae.py:318\u001b[0m, in \u001b[0;36mIterativeAmplitudeEstimation.estimate\u001b[1;34m(self, estimation_problem)\u001b[0m\n\u001b[0;32m    315\u001b[0m \u001b[38;5;28;01mexcept\u001b[39;00m \u001b[38;5;167;01mException\u001b[39;00m \u001b[38;5;28;01mas\u001b[39;00m exc:\n\u001b[0;32m    316\u001b[0m     \u001b[38;5;28;01mraise\u001b[39;00m AlgorithmError(\u001b[38;5;124m\"\u001b[39m\u001b[38;5;124mThe job was not completed successfully. \u001b[39m\u001b[38;5;124m\"\u001b[39m) \u001b[38;5;28;01mfrom\u001b[39;00m \u001b[38;5;21;01mexc\u001b[39;00m\n\u001b[1;32m--> 318\u001b[0m shots \u001b[38;5;241m=\u001b[39m ret\u001b[38;5;241m.\u001b[39mmetadata[\u001b[38;5;241m0\u001b[39m]\u001b[38;5;241m.\u001b[39mget(\u001b[38;5;124m\"\u001b[39m\u001b[38;5;124mshots\u001b[39m\u001b[38;5;124m\"\u001b[39m)\n\u001b[0;32m    319\u001b[0m \u001b[38;5;28;01mif\u001b[39;00m shots \u001b[38;5;129;01mis\u001b[39;00m \u001b[38;5;28;01mNone\u001b[39;00m:\n\u001b[0;32m    320\u001b[0m     circuit \u001b[38;5;241m=\u001b[39m \u001b[38;5;28mself\u001b[39m\u001b[38;5;241m.\u001b[39mconstruct_circuit(estimation_problem, k\u001b[38;5;241m=\u001b[39m\u001b[38;5;241m0\u001b[39m, measurement\u001b[38;5;241m=\u001b[39m\u001b[38;5;28;01mTrue\u001b[39;00m)\n",
      "\u001b[1;31mKeyError\u001b[0m: 0"
     ]
    }
   ],
   "source": [
    "from qiskit.primitives import StatevectorSampler\n",
    "from qiskit_algorithms import IterativeAmplitudeEstimation, EstimationProblem\n",
    "\n",
    "def expected_payment_via_iqae_legacy(circ: QuantumCircuit,\n",
    "                                    meas_idx: int,\n",
    "                                    c: float,\n",
    "                                    coins: float = 0.4,\n",
    "                                    epsilon: float = 2e-3,\n",
    "                                    alpha: float   = 0.05):\n",
    "    \"\"\"Iterative AE using the pre‑primitive API (compatible with Qiskit 1.4.x).\"\"\"\n",
    "    sampler = StatevectorSampler()\n",
    "    problem = EstimationProblem(\n",
    "        state_preparation = circ,\n",
    "        objective_qubits  = [meas_idx]\n",
    "    )\n",
    "\n",
    "    iae = IterativeAmplitudeEstimation(\n",
    "            epsilon_target = epsilon,\n",
    "            alpha          = alpha,\n",
    "            sampler        = sampler)\n",
    "\n",
    "    result = iae.estimate(problem)\n",
    "    p1     = result.estimation\n",
    "    calls  = result.num_oracle_queries\n",
    "    excess   = (p1 - 0.5) / (0.4 * c_param)\n",
    "    payment  = 0.4 * excess\n",
    "    return payment, result.num_oracle_queries\n",
    "\n",
    "pay_iqae, calls = expected_payment_via_iqae_legacy(qc, meas_q, c_param, coins,\n",
    "                                                    epsilon=2e-3, alpha=0.05)\n",
    "print(f\"IQAE (legacy)        E[payment] = {pay_iqae:.8f} (oracle calls = {calls})\")"
   ]
  },
  {
   "cell_type": "code",
   "execution_count": null,
   "id": "48e6894b",
   "metadata": {},
   "outputs": [
    {
     "name": "stderr",
     "output_type": "stream",
     "text": [
      "C:\\Users\\alexf\\AppData\\Local\\Temp\\ipykernel_101752\\3621755724.py:11: DeprecationWarning: The class ``qiskit.primitives.sampler.Sampler`` is deprecated as of qiskit 1.2. It will be removed no earlier than 3 months after the release date. All implementations of the `BaseSamplerV1` interface have been deprecated in favor of their V2 counterparts. The V2 alternative for the `Sampler` class is `StatevectorSampler`.\n",
      "  sampler = Sampler()                                   # AerSampler by default\n"
     ]
    },
    {
     "name": "stdout",
     "output_type": "stream",
     "text": [
      "   epsilon  oracle_calls\n",
      "0     0.20             0\n",
      "1     0.10             0\n",
      "2     0.05             0\n",
      "3     0.02             0\n",
      "4     0.01             0\n"
     ]
    }
   ],
   "source": [
    "epsilons = [0.2, 0.1, 0.05, 0.02, 0.01]\n",
    "oracle_calls = []\n",
    "\n",
    "for eps in epsilons:\n",
    "    pay, calls = expected_payment_via_iqae_legacy(\n",
    "        qc, meas_q, c_param, coins,\n",
    "        epsilon=eps, alpha=0.05\n",
    "    )\n",
    "    oracle_calls.append(calls)\n",
    "\n",
    "import pandas as pd\n",
    "df = pd.DataFrame({\"epsilon\": epsilons, \"oracle_calls\": oracle_calls})\n",
    "print(df)"
   ]
  },
  {
   "cell_type": "markdown",
   "id": "a7f5d894",
   "metadata": {},
   "source": [
    "Plot oracle_calls vs 1/epsilon on a log‑log scale—you’ll see a straight line with slope ≈ 1, confirming the 1/ε behaviour."
   ]
  },
  {
   "cell_type": "code",
   "execution_count": null,
   "id": "f16d6d41",
   "metadata": {},
   "outputs": [],
   "source": []
  },
  {
   "cell_type": "markdown",
   "id": "cbe4f311",
   "metadata": {},
   "source": [
    "## Classical Monte Carlo"
   ]
  },
  {
   "cell_type": "code",
   "execution_count": null,
   "id": "c57e93e6",
   "metadata": {},
   "outputs": [],
   "source": [
    "import scipy.stats as stats\n",
    "\n",
    "np.random.seed(42)  # For reproducibility\n",
    "\n",
    "cmc_samples = 100_000\n",
    "\n",
    "cmc_results = np.zeros(cmc_samples)\n",
    "cmc_results_0_10 = np.zeros(cmc_samples)\n",
    "for i in range(cmc_samples):\n",
    "    # Sample lognormal\n",
    "    lnorm = stats.lognorm.rvs(sigma, loc=0, scale=np.exp(mu))\n",
    "\n",
    "    # Calculate payout\n",
    "    payout = 0 if lnorm <= 1 else lnorm - 0.6*(lnorm - 1) - 1\n",
    "    \n",
    "    # Store the results\n",
    "    cmc_results[i] = payout\n",
    "\n",
    "    # Calculate clipped payout on [0, 10]\n",
    "    lnorm_0_10 = lnorm if lnorm <= 10 else 10\n",
    "    payout_0_10 = 0 if lnorm_0_10 <= 1 else lnorm_0_10 - 0.6*(lnorm_0_10 - 1) - 1\n",
    "    cmc_results_0_10[i] = payout_0_10\n"
   ]
  },
  {
   "cell_type": "code",
   "execution_count": null,
   "id": "5db71e18",
   "metadata": {},
   "outputs": [
    {
     "data": {
      "text/plain": [
       "np.float64(0.33510317755969515)"
      ]
     },
     "execution_count": 26,
     "metadata": {},
     "output_type": "execute_result"
    }
   ],
   "source": [
    "cmc_running_mean_0_10[-1]"
   ]
  },
  {
   "cell_type": "code",
   "execution_count": null,
   "id": "cc66e701",
   "metadata": {},
   "outputs": [
    {
     "name": "stderr",
     "output_type": "stream",
     "text": [
      "C:\\Users\\alexf\\AppData\\Local\\Temp\\ipykernel_41076\\1136296765.py:17: UserWarning: Attempt to set non-positive xlim on a log-scaled axis will be ignored.\n",
      "  plt.axis([0, None, 0, None])\n"
     ]
    },
    {
     "data": {
      "image/png": "[encoded data removed]",
      "text/plain": [
       "<Figure size 1000x600 with 1 Axes>"
      ]
     },
     "metadata": {},
     "output_type": "display_data"
    }
   ],
   "source": [
    "cmc_running_mean = np.cumsum(cmc_results) / np.arange(1, len(cmc_results) + 1)\n",
    "cmc_running_mean_0_10 = np.cumsum(cmc_results_0_10) / np.arange(1, len(cmc_results_0_10) + 1)\n",
    "cmc_x = range(cmc_samples)\n",
    "\n",
    "# Plot the results\n",
    "plt.figure(figsize=(10, 6)) #, dpi=300)\n",
    "plt.plot(cmc_x, cmc_running_mean, 'g-', label='Classical Monte Carlo (Uncapped)')\n",
    "plt.plot(cmc_x, cmc_running_mean_0_10, 'b-', label='Classical Monte Carlo on [0, 10]')\n",
    "# plt.plot(df_conv[\"shots\"], df_conv[\"expected_payment\"], 'r-', label='Quantum Monte Carlo on [0, 10]')\n",
    "plt.hlines(y=cmc_running_mean_0_10[-1], xmin=0, xmax=cmc_samples, color='k', linestyle='--', label='Final Classical Estimate')\n",
    "plt.legend(loc='best')\n",
    "plt.title('Comparing Convergence of Expected Excess Simulation Results')\n",
    "plt.xlabel('Simulation Iteration')\n",
    "plt.ylabel('Expected Payout')\n",
    "plt.ylim(0, 0.6)\n",
    "plt.xscale('log', base=10)\n",
    "plt.axis([0, None, 0, None])\n",
    "plt.show()"
   ]
  },
  {
   "cell_type": "code",
   "execution_count": null,
   "id": "e0e17c70",
   "metadata": {},
   "outputs": [
    {
     "data": {
      "image/png": "[encoded data removed]",
      "text/plain": [
       "<Figure size 1000x600 with 1 Axes>"
      ]
     },
     "metadata": {},
     "output_type": "display_data"
    }
   ],
   "source": [
    "# Plot the results\n",
    "plt.figure(figsize=(10, 6)) #, dpi=300)\n",
    "cmc_results_kde = stats.gaussian_kde(cmc_results)\n",
    "cmc_x = np.linspace(0, np.percentile(cmc_results, 99) * 1.1, 1000)\n",
    "plt.plot(cmc_x, cmc_results_kde(cmc_x), 'b-', label='Classical Monte Carlo')\n",
    "# plt.plot(cmc_x, cmc_results_kde(cmc_x), 'r--', label='Quantum Monte Carlo')\n",
    "plt.legend(loc='best')\n",
    "plt.title('Comparing Monte Carlo Results')\n",
    "plt.xlabel('Simulated Payout')\n",
    "plt.ylabel('Probability Density')\n",
    "plt.tight_layout()\n",
    "plt.axis([0, None, 0, None])\n",
    "plt.show()"
   ]
  }
 ],
 "metadata": {
  "kernelspec": {
   "display_name": "myenv",
   "language": "python",
   "name": "python3"
  },
  "language_info": {
   "codemirror_mode": {
    "name": "ipython",
    "version": 3
   },
   "file_extension": ".py",
   "mimetype": "text/x-python",
   "name": "python",
   "nbconvert_exporter": "python",
   "pygments_lexer": "ipython3",
   "version": "3.12.7"
  }
 },
 "nbformat": 4,
 "nbformat_minor": 5
}
